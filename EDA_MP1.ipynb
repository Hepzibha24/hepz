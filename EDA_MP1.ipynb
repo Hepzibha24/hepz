{
  "nbformat": 4,
  "nbformat_minor": 0,
  "metadata": {
    "colab": {
      "provenance": [],
      "authorship_tag": "ABX9TyP8dv6V4Y3S+TBj0DVqXOMf",
      "include_colab_link": true
    },
    "kernelspec": {
      "name": "python3",
      "display_name": "Python 3"
    },
    "language_info": {
      "name": "python"
    }
  },
  "cells": [
    {
      "cell_type": "markdown",
      "metadata": {
        "id": "view-in-github",
        "colab_type": "text"
      },
      "source": [
        "<a href=\"https://colab.research.google.com/github/Hepzibha24/hepz/blob/main/EDA_MP1.ipynb\" target=\"_parent\"><img src=\"https://colab.research.google.com/assets/colab-badge.svg\" alt=\"Open In Colab\"/></a>"
      ]
    },
    {
      "cell_type": "code",
      "execution_count": null,
      "metadata": {
        "id": "u1vXS6bwWqmf"
      },
      "outputs": [],
      "source": [
        "import pandas as pd\n",
        "import numpy as np\n",
        "import matplotlib.pyplot as plt\n",
        "import seaborn as sns\n"
      ]
    },
    {
      "cell_type": "code",
      "source": [
        "df=pd.read_csv(r\"/content/Telco_Cusomer_Churn.csv\")"
      ],
      "metadata": {
        "id": "oCnid5QjX7XP"
      },
      "execution_count": null,
      "outputs": []
    },
    {
      "cell_type": "code",
      "source": [
        "df.head()"
      ],
      "metadata": {
        "id": "2SBUGhRQZsUx"
      },
      "execution_count": null,
      "outputs": []
    },
    {
      "cell_type": "code",
      "source": [
        "df.shape"
      ],
      "metadata": {
        "id": "WvcVcK0BZ4QN"
      },
      "execution_count": null,
      "outputs": []
    },
    {
      "cell_type": "code",
      "source": [
        "df.info()"
      ],
      "metadata": {
        "id": "xxRgOxBXg6RP"
      },
      "execution_count": null,
      "outputs": []
    },
    {
      "cell_type": "code",
      "source": [
        "df.describe()"
      ],
      "metadata": {
        "id": "lEGDCS3vg_P1"
      },
      "execution_count": null,
      "outputs": []
    },
    {
      "cell_type": "code",
      "source": [
        "# check for duplicate data\n",
        "dups = df.duplicated()\n",
        "print('Number of duplicate rows = %d' % (dups.sum()))\n",
        "df[dups]"
      ],
      "metadata": {
        "id": "x49ohuOAhPIi"
      },
      "execution_count": null,
      "outputs": []
    },
    {
      "cell_type": "code",
      "source": [
        "df.drop_duplicates(inplace=True)"
      ],
      "metadata": {
        "id": "IKYopPL-h-Mh"
      },
      "execution_count": null,
      "outputs": []
    },
    {
      "cell_type": "code",
      "source": [
        "df.shape"
      ],
      "metadata": {
        "id": "1ubWPxmAhdDw"
      },
      "execution_count": null,
      "outputs": []
    },
    {
      "cell_type": "markdown",
      "source": [
        "make boxplot outlier treatment"
      ],
      "metadata": {
        "id": "WwwLXJc3pjMJ"
      }
    },
    {
      "cell_type": "code",
      "source": [
        "df.boxplot(column=['SeniorCitizen'])\n",
        "plt.show()"
      ],
      "metadata": {
        "id": "nW-fvqSjnxQC"
      },
      "execution_count": null,
      "outputs": []
    },
    {
      "cell_type": "code",
      "source": [
        "df.boxplot(column=['MonthlyCharges'])\n",
        "plt.show()"
      ],
      "metadata": {
        "id": "Vr7MI4CziF6m"
      },
      "execution_count": null,
      "outputs": []
    },
    {
      "cell_type": "code",
      "source": [
        "df.boxplot(column=['tenure'])\n",
        "plt.show()"
      ],
      "metadata": {
        "id": "rUN2gSPfi1QW"
      },
      "execution_count": null,
      "outputs": []
    },
    {
      "cell_type": "code",
      "source": [
        "def remove_outlier(col):\n",
        "    sorted(col)\n",
        "    Q1,Q3=col.quantile([0.25,0.75])\n",
        "    IQR=Q3-Q1\n",
        "    lower_range=Q1-(1.5*IQR)\n",
        "    upper_range=Q3+(1.5*IQR)\n",
        "    return lower_range,upper_range"
      ],
      "metadata": {
        "id": "iSfhR9XkkQb4"
      },
      "execution_count": null,
      "outputs": []
    },
    {
      "cell_type": "code",
      "source": [
        "# Convert 'TotalCharges' to numeric, coercing errors\n",
        "df['TotalCharges'] = pd.to_numeric(df['TotalCharges'], errors='coerce')\n",
        "\n",
        "# Drop rows with NaN in 'TotalCharges' created by coercion\n",
        "df.dropna(subset=['TotalCharges'], inplace=True)\n",
        "\n",
        "lrMonthlyCharge, urMonthlyCharge = remove_outlier(df['MonthlyCharges'])\n",
        "df['MonthlyCharges'] = np.where(df['MonthlyCharges'] > urMonthlyCharge, urMonthlyCharge, df['MonthlyCharges'])\n",
        "df['MonthlyCharges'] = np.where(df['MonthlyCharges'] < lrMonthlyCharge, lrMonthlyCharge, df['MonthlyCharges'])\n",
        "\n",
        "Irtenure, urtenure = remove_outlier(df['tenure'])\n",
        "df['tenure'] = np.where(df['tenure'] > urtenure, urtenure, df['tenure'])\n",
        "df['tenure'] = np.where(df['tenure'] < Irtenure, Irtenure, df['tenure'])\n",
        "\n",
        "IrSenior, urSenior = remove_outlier(df['SeniorCitizen'])\n",
        "df['SeniorCitizen'] = np.where(df['SeniorCitizen'] > urSenior, urSenior, df['SeniorCitizen'])\n",
        "df['SeniorCitizen'] = np.where(df['SeniorCitizen'] < IrSenior, IrSenior, df['SeniorCitizen'])\n",
        "\n",
        "lrTotalCharges, urTotalCharges = remove_outlier(df['TotalCharges'])\n",
        "df['TotalCharges'] = np.where(df['TotalCharges'] > urTotalCharges, urTotalCharges, df['TotalCharges'])\n",
        "df['TotalCharges'] = np.where(df['TotalCharges'] < lrTotalCharges, lrTotalCharges, df['TotalCharges'])\n",
        "\n",
        "df.shape"
      ],
      "metadata": {
        "id": "IUjykusHlL-F"
      },
      "execution_count": null,
      "outputs": []
    },
    {
      "cell_type": "markdown",
      "source": [
        "make boxplot after outlier treatment\n",
        "\n",
        "\n"
      ],
      "metadata": {
        "id": "yq2g9jKSp-o1"
      }
    },
    {
      "cell_type": "code",
      "source": [
        "df.boxplot(column=['SeniorCitizen'])\n",
        "plt.show()"
      ],
      "metadata": {
        "id": "1qDeGKqzpJ3P"
      },
      "execution_count": null,
      "outputs": []
    },
    {
      "cell_type": "code",
      "source": [
        "df.boxplot(column=['MonthlyCharges'])\n",
        "plt.show()"
      ],
      "metadata": {
        "id": "U4NN4LXSpQ_t"
      },
      "execution_count": null,
      "outputs": []
    },
    {
      "cell_type": "code",
      "source": [
        "df.boxplot(column=['tenure'])\n",
        "plt.show()"
      ],
      "metadata": {
        "id": "WTnJwO7ipUq_"
      },
      "execution_count": null,
      "outputs": []
    },
    {
      "cell_type": "code",
      "source": [
        "#check for missing value in any column\n",
        "df.isnull().sum()"
      ],
      "metadata": {
        "id": "sigkdMDwqbtH"
      },
      "execution_count": null,
      "outputs": []
    },
    {
      "cell_type": "markdown",
      "source": [
        "replacing NULL values in numerical columns using median"
      ],
      "metadata": {
        "id": "slYRAhzxrVtp"
      }
    },
    {
      "cell_type": "markdown",
      "source": [
        "univariate analysis"
      ],
      "metadata": {
        "id": "VlyHgTyIQNMa"
      }
    },
    {
      "cell_type": "code",
      "source": [
        "sns.distplot(df.MonthlyCharges, bins=20)#histogram og monthlycharges\n"
      ],
      "metadata": {
        "id": "XyHAeA_8qnTH"
      },
      "execution_count": null,
      "outputs": []
    },
    {
      "cell_type": "code",
      "source": [
        "sns.countplot(df[\"Churn\"])\n",
        "plt.show()"
      ],
      "metadata": {
        "id": "aX405R5JQ4Xl"
      },
      "execution_count": null,
      "outputs": []
    },
    {
      "cell_type": "markdown",
      "source": [
        "bivarte"
      ],
      "metadata": {
        "id": "mPQZAm25SD9p"
      }
    },
    {
      "cell_type": "code",
      "source": [
        "sns.pairplot(df)\n",
        "plt.show()"
      ],
      "metadata": {
        "id": "qAhfx4xQSKRj"
      },
      "execution_count": null,
      "outputs": []
    },
    {
      "cell_type": "code",
      "source": [
        "df.corr"
      ],
      "metadata": {
        "id": "fvo-rHflT3JS"
      },
      "execution_count": null,
      "outputs": []
    },
    {
      "cell_type": "markdown",
      "source": [
        "correlation heatmap"
      ],
      "metadata": {
        "id": "4fCS11pxUHYT"
      }
    },
    {
      "cell_type": "code",
      "source": [
        "plt.figure(figsize=(12,7))\n",
        "# Select only numeric columns for correlation calculation\n",
        "numeric_df = df.select_dtypes(include=np.number)\n",
        "sns.heatmap(numeric_df.corr(), annot=True, fmt=' .2f', cmap='Blues' )\n",
        "plt.show()"
      ],
      "metadata": {
        "id": "bFFlQ1SKSuxT"
      },
      "execution_count": null,
      "outputs": []
    },
    {
      "cell_type": "markdown",
      "source": [
        "normalizing and scaling"
      ],
      "metadata": {
        "id": "zGBCJZnMU7Xm"
      }
    },
    {
      "cell_type": "code",
      "source": [
        "#Scales the data. Essentially returns the z-scores of every attribute\n",
        "from sklearn.preprocessing import StandardScaler\n",
        "std_scale = StandardScaler()\n",
        "# std_scale\n",
        "\n",
        "# StandardScaler(copy=True, with_mean=True, with_std=True)\n",
        "\n",
        "df['SeniorCitizen' ] = std_scale.fit_transform(df[['SeniorCitizen' ]])\n",
        "df['tenure' ] = std_scale.fit_transform(df[['tenure' ]])\n",
        "df['MonthlyCharges' ] = std_scale.fit_transform(df[['MonthlyCharges' ]])\n",
        "df['TotalCharges' ]= std_scale.fit_transform(df[['TotalCharges' ]])"
      ],
      "metadata": {
        "id": "59qVir-PT9g3"
      },
      "execution_count": null,
      "outputs": []
    },
    {
      "cell_type": "code",
      "source": [
        "df.head()"
      ],
      "metadata": {
        "id": "zrhIvSwIVvQh"
      },
      "execution_count": null,
      "outputs": []
    },
    {
      "cell_type": "markdown",
      "source": [
        "  ENCODING"
      ],
      "metadata": {
        "id": "yPDjVnZydlxV"
      }
    },
    {
      "cell_type": "code",
      "source": [
        "dummies=pd.get_dummies(df,columns=['gender','Partner','Dependents','PhoneService','MultipleLines','InternetService','OnlineSecurity','OnlineBackup','DeviceProtection','TechSupport','StreamingTV','StreamingMovies','Contract','PaperlessBilling','PaymentMethod'], prefix=['gender','Partner','Dependents','PhoneService','MultipleLines','InternetService','OnlineSecurity','OnlineBackup','DeviceProtection','TechSupport','StreamingTV','StreamingMovies','Contract','PaperlessBilling','PaymentMethod'],drop_first=True)"
      ],
      "metadata": {
        "id": "y_iGmvZIeHWE"
      },
      "execution_count": null,
      "outputs": []
    },
    {
      "cell_type": "code",
      "source": [
        "column=['gender','Partner','Dependents','PhoneService','MultipleLines','InternetService','OnlineSecurity','OnlineBackup','DeviceProtection','TechSupport','StreamingTV','StreamingMovies','Contract','PaperlessBilling','PaymentMethod']\n",
        "df = pd.concat([df, dummies],axis=1)\n",
        "df.drop(column,axis=1,inplace=True)"
      ],
      "metadata": {
        "id": "EOmTMISEfMAQ"
      },
      "execution_count": null,
      "outputs": []
    },
    {
      "cell_type": "code",
      "source": [
        "df.head()"
      ],
      "metadata": {
        "id": "uTJ3Kl1YgkE8"
      },
      "execution_count": null,
      "outputs": []
    },
    {
      "cell_type": "code",
      "source": [],
      "metadata": {
        "id": "cPKRcIJqxiqC"
      },
      "execution_count": null,
      "outputs": []
    }
  ]
}